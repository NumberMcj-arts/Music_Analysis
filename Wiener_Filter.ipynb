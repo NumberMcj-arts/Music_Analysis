{
 "cells": [
  {
   "cell_type": "code",
   "execution_count": 1,
   "id": "9b0286d7",
   "metadata": {},
   "outputs": [],
   "source": [
    "import librosa\n",
    "\n",
    "import matplotlib.pyplot as plt\n",
    "import numpy as np\n",
    "\n",
    "import os\n",
    "\n",
    "import soundfile as sf"
   ]
  },
  {
   "cell_type": "code",
   "execution_count": 2,
   "id": "d86c3c3f",
   "metadata": {},
   "outputs": [],
   "source": [
    "filename_u = \"Signal_u.wav\"\n",
    "filename_r = \"Signal_r.wav\"\n",
    "\n",
    "u, sr = librosa.load(os.path.join('data', filename_u))\n",
    "r, sr = librosa.load(os.path.join('data', filename_r))"
   ]
  },
  {
   "cell_type": "code",
   "execution_count": 4,
   "id": "fe2cd351",
   "metadata": {},
   "outputs": [],
   "source": []
  },
  {
   "cell_type": "code",
   "execution_count": 4,
   "id": "057b4410",
   "metadata": {},
   "outputs": [],
   "source": [
    "def correlate(x, y, shift):\n",
    "    value = 0\n",
    "    \n",
    "    for k in range(len(x)):\n",
    "        y_idx = k + shift\n",
    "        \n",
    "        x_val = x[k]\n",
    "        y_val = 1\n",
    "        \n",
    "        if (y_idx > (len(y) - 1)):\n",
    "            y_val = 0\n",
    "        elif (y_idx < 0):\n",
    "            y_val = 0\n",
    "        else:\n",
    "            y_val = y[y_idx]\n",
    "        \n",
    "        value += (x_val * y_val)\n",
    "        \n",
    "    return value / float(len(x))"
   ]
  },
  {
   "cell_type": "code",
   "execution_count": null,
   "id": "6585d299",
   "metadata": {},
   "outputs": [],
   "source": []
  },
  {
   "cell_type": "code",
   "execution_count": 5,
   "id": "366cd358",
   "metadata": {},
   "outputs": [],
   "source": [
    "def get_beta_opt(u, r, n):\n",
    "    phi_ru_0 = np.zeros(n)\n",
    "    phi_uu = np.zeros(shape=(n, n))\n",
    "    \n",
    "    for i in range(n):\n",
    "        phi_ru_0[i] = correlate(r, u, -i)\n",
    "        print(\"phi_ru_0 \" + str(i) + \" = \" + str(phi_ru_0[i]))\n",
    "        \n",
    "    for i in range(n):\n",
    "        for j in range(i, n):\n",
    "            value = correlate(u, u, i)\n",
    "            phi_uu[i, j] = value\n",
    "            phi_uu[j, i] = value\n",
    "            print(\"phi_uu \" + str(i) + \" \" +str(j) + \" = \" + str(value))\n",
    "                  \n",
    "    print(\"matrices done\")\n",
    "                  \n",
    "    beta_opt = np.linalg.inv(phi_uu) @ phi_ru_0\n",
    "                  \n",
    "    return beta_opt"
   ]
  },
  {
   "cell_type": "code",
   "execution_count": null,
   "id": "59b14c22",
   "metadata": {},
   "outputs": [],
   "source": []
  },
  {
   "cell_type": "code",
   "execution_count": 6,
   "id": "8dff2c1d",
   "metadata": {},
   "outputs": [],
   "source": [
    "def get_y(u, beta_opt):\n",
    "    y = np.zeros(len(u))\n",
    "    \n",
    "    for timeframe_idx in range(len(u)):\n",
    "        \n",
    "        y_val_tmp = 0\n",
    "        \n",
    "        tmp_idx = timeframe_idx\n",
    "        \n",
    "        for filter_coeff_idx in range(len(beta_opt)):\n",
    "            y_val_tmp += (beta_opt[filter_coeff_idx] * u[tmp_idx])\n",
    "            if (tmp_idx > 0):\n",
    "                tmp_idx -= 1\n",
    "            else:\n",
    "                break\n",
    "                \n",
    "        y[timeframe_idx] = y_val_tmp\n",
    "        \n",
    "    return y"
   ]
  },
  {
   "cell_type": "code",
   "execution_count": null,
   "id": "56d3efdc",
   "metadata": {},
   "outputs": [],
   "source": []
  },
  {
   "cell_type": "code",
   "execution_count": 7,
   "id": "a9f36866",
   "metadata": {},
   "outputs": [
    {
     "name": "stdout",
     "output_type": "stream",
     "text": [
      "phi_ru_0 0 = 1.081102184613238e-05\n",
      "phi_ru_0 1 = 1.1403545219413971e-05\n",
      "phi_ru_0 2 = 1.1977655776120325e-05\n",
      "phi_ru_0 3 = 1.260351531665037e-05\n",
      "phi_ru_0 4 = 1.3241546672890459e-05\n",
      "phi_ru_0 5 = 1.3580491402662394e-05\n",
      "phi_ru_0 6 = 1.3802153978452963e-05\n",
      "phi_ru_0 7 = 1.4094584682744548e-05\n",
      "phi_ru_0 8 = 1.3999351913700908e-05\n",
      "phi_ru_0 9 = 1.39333349052236e-05\n",
      "phi_uu 0 0 = 0.0015272963189721296\n",
      "phi_uu 0 1 = 0.0015272963189721296\n",
      "phi_uu 0 2 = 0.0015272963189721296\n",
      "phi_uu 0 3 = 0.0015272963189721296\n",
      "phi_uu 0 4 = 0.0015272963189721296\n",
      "phi_uu 0 5 = 0.0015272963189721296\n",
      "phi_uu 0 6 = 0.0015272963189721296\n",
      "phi_uu 0 7 = 0.0015272963189721296\n",
      "phi_uu 0 8 = 0.0015272963189721296\n",
      "phi_uu 0 9 = 0.0015272963189721296\n",
      "phi_uu 1 1 = 0.0015045822807596095\n",
      "phi_uu 1 2 = 0.0015045822807596095\n",
      "phi_uu 1 3 = 0.0015045822807596095\n",
      "phi_uu 1 4 = 0.0015045822807596095\n",
      "phi_uu 1 5 = 0.0015045822807596095\n",
      "phi_uu 1 6 = 0.0015045822807596095\n",
      "phi_uu 1 7 = 0.0015045822807596095\n",
      "phi_uu 1 8 = 0.0015045822807596095\n",
      "phi_uu 1 9 = 0.0015045822807596095\n",
      "phi_uu 2 2 = 0.0014517671840827966\n",
      "phi_uu 2 3 = 0.0014517671840827966\n",
      "phi_uu 2 4 = 0.0014517671840827966\n",
      "phi_uu 2 5 = 0.0014517671840827966\n",
      "phi_uu 2 6 = 0.0014517671840827966\n",
      "phi_uu 2 7 = 0.0014517671840827966\n",
      "phi_uu 2 8 = 0.0014517671840827966\n",
      "phi_uu 2 9 = 0.0014517671840827966\n",
      "phi_uu 3 3 = 0.0013883168581814956\n",
      "phi_uu 3 4 = 0.0013883168581814956\n",
      "phi_uu 3 5 = 0.0013883168581814956\n",
      "phi_uu 3 6 = 0.0013883168581814956\n",
      "phi_uu 3 7 = 0.0013883168581814956\n",
      "phi_uu 3 8 = 0.0013883168581814956\n",
      "phi_uu 3 9 = 0.0013883168581814956\n",
      "phi_uu 4 4 = 0.0013237180646301907\n",
      "phi_uu 4 5 = 0.0013237180646301907\n",
      "phi_uu 4 6 = 0.0013237180646301907\n",
      "phi_uu 4 7 = 0.0013237180646301907\n",
      "phi_uu 4 8 = 0.0013237180646301907\n",
      "phi_uu 4 9 = 0.0013237180646301907\n",
      "phi_uu 5 5 = 0.001262358995678531\n",
      "phi_uu 5 6 = 0.001262358995678531\n",
      "phi_uu 5 7 = 0.001262358995678531\n",
      "phi_uu 5 8 = 0.001262358995678531\n",
      "phi_uu 5 9 = 0.001262358995678531\n",
      "phi_uu 6 6 = 0.0012024527794300525\n",
      "phi_uu 6 7 = 0.0012024527794300525\n",
      "phi_uu 6 8 = 0.0012024527794300525\n",
      "phi_uu 6 9 = 0.0012024527794300525\n",
      "phi_uu 7 7 = 0.001143527022760967\n",
      "phi_uu 7 8 = 0.001143527022760967\n",
      "phi_uu 7 9 = 0.001143527022760967\n",
      "phi_uu 8 8 = 0.0010848130854711443\n",
      "phi_uu 8 9 = 0.0010848130854711443\n",
      "phi_uu 9 9 = 0.0010277599932285366\n",
      "matrices done\n"
     ]
    }
   ],
   "source": [
    "a = get_beta_opt(u, r, 10)"
   ]
  },
  {
   "cell_type": "code",
   "execution_count": null,
   "id": "3578f1cb",
   "metadata": {},
   "outputs": [],
   "source": []
  },
  {
   "cell_type": "code",
   "execution_count": null,
   "id": "61df0ecc",
   "metadata": {},
   "outputs": [],
   "source": []
  },
  {
   "cell_type": "code",
   "execution_count": 8,
   "id": "661e89f9",
   "metadata": {},
   "outputs": [],
   "source": [
    "y_calced = get_y(u, a)"
   ]
  },
  {
   "cell_type": "code",
   "execution_count": 9,
   "id": "9ed9ccd5",
   "metadata": {},
   "outputs": [],
   "source": [
    "s = [(r[i] - y_calced[i]) for i in range(min(len(r), len(y_calced)))]"
   ]
  },
  {
   "cell_type": "code",
   "execution_count": null,
   "id": "7bc1c3cd",
   "metadata": {},
   "outputs": [],
   "source": []
  },
  {
   "cell_type": "code",
   "execution_count": 10,
   "id": "c9e9432a",
   "metadata": {},
   "outputs": [],
   "source": [
    "time = [float(timeframe) / sr for timeframe in range(len(s))]"
   ]
  },
  {
   "cell_type": "code",
   "execution_count": null,
   "id": "969e1598",
   "metadata": {},
   "outputs": [],
   "source": []
  },
  {
   "cell_type": "code",
   "execution_count": null,
   "id": "17b523c7",
   "metadata": {},
   "outputs": [],
   "source": []
  },
  {
   "cell_type": "code",
   "execution_count": null,
   "id": "72d46883",
   "metadata": {},
   "outputs": [],
   "source": []
  },
  {
   "cell_type": "code",
   "execution_count": 11,
   "id": "d4b0dbf6",
   "metadata": {},
   "outputs": [
    {
     "data": {
      "text/plain": [
       "[<matplotlib.lines.Line2D at 0x1cbfe4dab00>]"
      ]
     },
     "execution_count": 11,
     "metadata": {},
     "output_type": "execute_result"
    },
    {
     "data": {
      "image/png": "[encoded data removed]",
      "text/plain": [
       "<Figure size 640x480 with 1 Axes>"
      ]
     },
     "metadata": {},
     "output_type": "display_data"
    }
   ],
   "source": [
    "plt.plot(time, y_calced)"
   ]
  },
  {
   "cell_type": "code",
   "execution_count": null,
   "id": "85dc58f9",
   "metadata": {},
   "outputs": [],
   "source": []
  },
  {
   "cell_type": "code",
   "execution_count": null,
   "id": "6546f25d",
   "metadata": {},
   "outputs": [],
   "source": []
  },
  {
   "cell_type": "code",
   "execution_count": null,
   "id": "c39738d1",
   "metadata": {},
   "outputs": [],
   "source": []
  },
  {
   "cell_type": "code",
   "execution_count": 12,
   "id": "99d5fa0d",
   "metadata": {},
   "outputs": [],
   "source": [
    "sf.write(os.path.join('data', 'no_wind.wav'), y_calced, sr, subtype='PCM_24')"
   ]
  },
  {
   "cell_type": "code",
   "execution_count": null,
   "id": "52963d00",
   "metadata": {},
   "outputs": [],
   "source": []
  },
  {
   "cell_type": "code",
   "execution_count": null,
   "id": "880f38cb",
   "metadata": {},
   "outputs": [],
   "source": []
  },
  {
   "cell_type": "code",
   "execution_count": null,
   "id": "64f633c6",
   "metadata": {},
   "outputs": [],
   "source": []
  }
 ],
 "metadata": {
  "kernelspec": {
   "display_name": "Python 3 (ipykernel)",
   "language": "python",
   "name": "python3"
  },
  "language_info": {
   "codemirror_mode": {
    "name": "ipython",
    "version": 3
   },
   "file_extension": ".py",
   "mimetype": "text/x-python",
   "name": "python",
   "nbconvert_exporter": "python",
   "pygments_lexer": "ipython3",
   "version": "3.10.9"
  }
 },
 "nbformat": 4,
 "nbformat_minor": 5
}
